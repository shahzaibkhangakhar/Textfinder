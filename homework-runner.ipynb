{
 "cells": [
  {
   "cell_type": "code",
   "execution_count": 3,
   "metadata": {},
   "outputs": [],
   "source": [
    "import sys\n",
    "from pathlib import Path\n",
    "\n",
    "# Add module path\n",
    "sys.path.append(str(Path.cwd()))\n"
   ]
  },
  {
   "cell_type": "code",
   "execution_count": 4,
   "metadata": {},
   "outputs": [
    {
     "name": "stdout",
     "output_type": "stream",
     "text": [
      "/home/haroon-javed/Desktop/semesters/Project/code\n"
     ]
    }
   ],
   "source": [
    "import os\n",
    "print(os.getcwd())\n"
   ]
  },
  {
   "cell_type": "markdown",
   "metadata": {},
   "source": [
    "Import Retrieval class"
   ]
  },
  {
   "cell_type": "code",
   "execution_count": 5,
   "metadata": {},
   "outputs": [
    {
     "name": "stderr",
     "output_type": "stream",
     "text": [
      "/home/haroon-javed/miniconda3/envs/thesis/lib/python3.13/site-packages/tqdm/auto.py:21: TqdmWarning: IProgress not found. Please update jupyter and ipywidgets. See https://ipywidgets.readthedocs.io/en/stable/user_install.html\n",
      "  from .autonotebook import tqdm as notebook_tqdm\n"
     ]
    }
   ],
   "source": [
    "from baseline.retriever.retriever import Retriever"
   ]
  },
  {
   "cell_type": "markdown",
   "metadata": {},
   "source": [
    "# Initialize the retriever\n"
   ]
  },
  {
   "cell_type": "code",
   "execution_count": 6,
   "metadata": {},
   "outputs": [],
   "source": [
    "retriever = Retriever(model_name='all-MiniLM-L6-v2', chunk_size=500, chunk_overlap=50)"
   ]
  },
  {
   "cell_type": "markdown",
   "metadata": {},
   "source": [
    "Add some documents (can be strings or dictionaries with metadata)"
   ]
  },
  {
   "cell_type": "code",
   "execution_count": 7,
   "metadata": {},
   "outputs": [
    {
     "name": "stderr",
     "output_type": "stream",
     "text": [
      "Batches: 100%|██████████| 1/1 [00:00<00:00, 17.63it/s]\n"
     ]
    }
   ],
   "source": [
    "documents = [\n",
    "    \"The quick brown fox jumps over the lazy dog. This sentence contains all the letters in the English alphabet.\",\n",
    "    {\n",
    "        \"text\": \"Python is a popular programming language. It's known for its simplicity and readability.\",\n",
    "        \"author\": \"Guido van Rossum\",\n",
    "        \"year\": 1991\n",
    "    },\n",
    "    \"Machine learning is a subset of artificial intelligence that focuses on building systems that learn from data.\",\n",
    "    {\n",
    "        \"text\": \"FAISS is a library for efficient similarity search and clustering of dense vectors.\",\n",
    "        \"developer\": \"Facebook AI Research\"\n",
    "    }\n",
    "]\n",
    "\n",
    "retriever.add_documents(documents)"
   ]
  },
  {
   "cell_type": "markdown",
   "metadata": {},
   "source": [
    "# Query the retriever"
   ]
  },
  {
   "cell_type": "code",
   "execution_count": 8,
   "metadata": {},
   "outputs": [],
   "source": [
    "query = \"What is Python?\"\n",
    "results = retriever.query(query, k=2)"
   ]
  },
  {
   "cell_type": "code",
   "execution_count": 9,
   "metadata": {},
   "outputs": [
    {
     "name": "stdout",
     "output_type": "stream",
     "text": [
      "Results for query: 'What is Python?'\n",
      "\n",
      "Result 1:\n",
      "Text: Python is a popular programming language. It's known for its simplicity and readability.\n",
      "Score: 0.3263\n",
      "Metadata:\n",
      "  author: Guido van Rossum\n",
      "  year: 1991\n",
      "\n",
      "Result 2:\n",
      "Text: Machine learning is a subset of artificial intelligence that focuses on building systems that learn from data.\n",
      "Score: 1.5460\n"
     ]
    }
   ],
   "source": [
    "# Display results\n",
    "print(f\"Results for query: '{query}'\")\n",
    "for i, result in enumerate(results, 1):\n",
    "    print(f\"\\nResult {i}:\")\n",
    "    print(f\"Text: {result['text']}\")\n",
    "    print(f\"Score: {result['score']:.4f}\")\n",
    "    if result['metadata']:\n",
    "        print(\"Metadata:\")\n",
    "        for k, v in result['metadata'].items():\n",
    "            print(f\"  {k}: {v}\")"
   ]
  },
  {
   "cell_type": "code",
   "execution_count": 10,
   "metadata": {},
   "outputs": [
    {
     "name": "stderr",
     "output_type": "stream",
     "text": [
      "Batches: 100%|██████████| 1/1 [00:00<00:00,  2.20it/s]\n"
     ]
    }
   ],
   "source": [
    "# Add a single file\n",
    "retriever.add_file(\"./data/ImranKhan.pdf\")"
   ]
  },
  {
   "cell_type": "markdown",
   "metadata": {},
   "source": [
    "Verify by query"
   ]
  },
  {
   "cell_type": "code",
   "execution_count": 15,
   "metadata": {},
   "outputs": [
    {
     "name": "stdout",
     "output_type": "stream",
     "text": [
      "Source: ./data/ImranKhan.pdf\n",
      "Text: Cricketer of the Year award in 1989. Playing until 1992, he captained the Pakistan national cricket team for most of the 1980s and early 1990s. He initially decided to retire after the 1987 Cricket Wo...\n",
      "--------------------------------------------------\n",
      "Source: ./data/ImranKhan.pdf\n",
      "Text: world record for the most wickets, along with the second-best bowling figures in an innings as a captain in Test cricket. Moreover , he has won the most Player of the Series awards in Test cricket for...\n",
      "--------------------------------------------------\n",
      "Source: ./data/ImranKhan.pdf\n",
      "Text: . Khan learned reverse swing bowling from Sarfraz Nawaz and passed on this technique to Wasim Akram and Waqar Younis , who developed and popularised it in subsequent years. He was named one of the Wis...\n",
      "--------------------------------------------------\n"
     ]
    }
   ],
   "source": [
    "results = retriever.query(\"Won worldcup\", k=3)\n",
    "for result in results:\n",
    "    print(f\"Source: {result['metadata'].get('source', 'Unknown')}\")\n",
    "    print(f\"Text: {result['text'][:200]}...\")\n",
    "    print(\"-\" * 50)"
   ]
  }
 ],
 "metadata": {
  "kernelspec": {
   "display_name": "thesis",
   "language": "python",
   "name": "python3"
  },
  "language_info": {
   "codemirror_mode": {
    "name": "ipython",
    "version": 3
   },
   "file_extension": ".py",
   "mimetype": "text/x-python",
   "name": "python",
   "nbconvert_exporter": "python",
   "pygments_lexer": "ipython3",
   "version": "3.13.2"
  }
 },
 "nbformat": 4,
 "nbformat_minor": 4
}
